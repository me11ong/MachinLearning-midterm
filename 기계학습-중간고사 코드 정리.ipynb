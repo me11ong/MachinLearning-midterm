{
 "cells": [
  {
   "cell_type": "code",
   "execution_count": 18,
   "metadata": {},
   "outputs": [
    {
     "name": "stdout",
     "output_type": "stream",
     "text": [
      "Train-Eval :  0.9809523809523809\n",
      "Test-Eval :  0.9333333333333333\n",
      "[0]\n"
     ]
    },
    {
     "name": "stderr",
     "output_type": "stream",
     "text": [
      "c:\\Users\\홍희지\\AppData\\Local\\Programs\\Python\\Python311\\Lib\\site-packages\\sklearn\\base.py:439: UserWarning: X does not have valid feature names, but KNeighborsClassifier was fitted with feature names\n",
      "  warnings.warn(\n"
     ]
    }
   ],
   "source": [
    "import seaborn as sb\n",
    "iris=sb.load_dataset(\"iris\")\n",
    "\n",
    "t=iris[[\"species\"]].copy()\n",
    "data=iris.drop(\"species\",axis=1)\n",
    "\n",
    "t[t[\"species\"]==\"setosa\"]=int(0)\n",
    "t[t[\"species\"]==\"virginica\"]=int(1)\n",
    "t[t[\"species\"]==\"versicolor\"]=int(2)\n",
    "t=t[\"species\"].astype(\"int\")\n",
    "\n",
    "from sklearn. model_selection import train_test_split\n",
    "train_data,test_data,train_target,test_target=train_test_split(data,t,test_size=0.3,random_state=42,stratify=t)\n",
    "\n",
    "from sklearn.neighbors import KNeighborsClassifier\n",
    "kn=KNeighborsClassifier(n_neighbors=3)\n",
    "\n",
    "kn.fit(train_data,train_target)\n",
    "\n",
    "print(\"Train-Eval : \",kn.score(train_data,train_target))\n",
    "print(\"Test-Eval : \",kn.score(test_data,test_target))\n",
    "print(kn.predict([[4.3,3,1.1,0.1],]))"
   ]
  },
  {
   "cell_type": "code",
   "execution_count": 50,
   "metadata": {},
   "outputs": [
    {
     "name": "stdout",
     "output_type": "stream",
     "text": [
      "Train-Eval :  0.9809523809523809\n",
      "Test-Eval :  0.9333333333333333\n"
     ]
    }
   ],
   "source": [
    "import seaborn as sb\n",
    "iris=sb.load_dataset(\"iris\")\n",
    "\n",
    "t=iris[[\"species\"]].copy()\n",
    "data=iris.drop(\"species\",axis=1)\n",
    "\n",
    "t[t[\"species\"]==\"setosa\"]=int(0)\n",
    "t[t[\"species\"]==\"virginica\"]=int(1)\n",
    "t[t[\"species\"]==\"versicolor\"]=int(2)\n",
    "t=t[\"species\"].astype(\"int\")\n",
    "\n",
    "from sklearn. model_selection import train_test_split\n",
    "train_data,test_data,train_target,test_target=train_test_split(data,t,test_size=0.3,random_state=42,stratify=t)\n",
    "\n",
    "from sklearn.neighbors import KNeighborsClassifier\n",
    "kn=KNeighborsClassifier(n_neighbors=3)\n",
    "\n",
    "kn.fit(train_data,train_target)\n",
    "\n",
    "print(\"Train-Eval : \",kn.score(train_data,train_target))\n",
    "print(\"Test-Eval : \",kn.score(test_data,test_target))\n",
    "\n"
   ]
  },
  {
   "cell_type": "code",
   "execution_count": null,
   "metadata": {},
   "outputs": [],
   "source": []
  },
  {
   "cell_type": "code",
   "execution_count": 56,
   "metadata": {},
   "outputs": [
    {
     "name": "stdout",
     "output_type": "stream",
     "text": [
      "Train-Eval :  1.0\n",
      "Test-Eval :  1.0\n",
      "[[0.66666667 0.33333333]]\n"
     ]
    },
    {
     "data": {
      "text/plain": [
       "<matplotlib.collections.PathCollection at 0x211d7fd9590>"
      ]
     },
     "execution_count": 56,
     "metadata": {},
     "output_type": "execute_result"
    },
    {
     "data": {
      "image/png": "[encoded data removed]",
      "text/plain": [
       "<Figure size 640x480 with 1 Axes>"
      ]
     },
     "metadata": {},
     "output_type": "display_data"
    }
   ],
   "source": [
    "h=[];w=[];t=[]\n",
    "\n",
    "with open (\"C:\\\\Users\\\\홍희지\\\\Downloads\\\\health.csv\",\"r\") as file:\n",
    "    lines=file.readlines()[1:]\n",
    "    for line in lines:\n",
    "        a,b,c=(line.strip().split(\",\"))\n",
    "        h.append(float(a))\n",
    "        w.append(float(b))\n",
    "        t.append(int(c))\n",
    "\n",
    "data=[[x,y]for x,y in zip(h,w)]\n",
    "\n",
    "from sklearn.model_selection import train_test_split\n",
    "train_data,test_data,train_target,test_target=train_test_split(data,t,test_size=0.3,random_state=42,stratify=t)\n",
    "\n",
    "from sklearn.neighbors import KNeighborsClassifier\n",
    "kn=KNeighborsClassifier(n_neighbors=3)\n",
    "kn.fit(train_data,train_target)\n",
    "\n",
    "print(\"Train-Eval : \",kn.score(train_data,train_target))\n",
    "print(\"Test-Eval : \",kn.score(test_data,test_target))\n",
    "\n",
    "x=150\n",
    "y=29\n",
    "\n",
    "print(kn.predict_proba([[x,y]]))\n",
    "\n",
    "import matplotlib.pyplot as plt\n",
    "\n",
    "plt.scatter(h,w)\n",
    "plt.scatter(x,y,marker='^')\n",
    "\n"
   ]
  },
  {
   "cell_type": "code",
   "execution_count": 46,
   "metadata": {},
   "outputs": [
    {
     "name": "stdout",
     "output_type": "stream",
     "text": [
      "Train-Eval :  0.8809523809523809\n",
      "Test-Eval :  0.8958333333333334\n"
     ]
    }
   ],
   "source": [
    "h=[];w=[];t=[]\n",
    "\n",
    "with open (\"C:\\\\Users\\\\홍희지\\\\Downloads\\\\health.csv\",\"r\") as file:\n",
    "    lines=file.readlines()[1:]\n",
    "    for line in lines:\n",
    "        a,b,c=(line.strip().split(\",\"))\n",
    "        h.append(float(a))\n",
    "        w.append(float(b))\n",
    "        t.append(int(c))\n",
    "\n",
    "data=[[x,y]for x,y in zip(h,w)]\n",
    "\n",
    "from sklearn.model_selection import train_test_split\n",
    "train_data,test_data,train_target,test_target=train_test_split(data,t,test_size=0.3,random_state=42,stratify=t)\n",
    "\n",
    "from sklearn.neighbors import KNeighborsRegressor\n",
    "kr=KNeighborsRegressor(n_neighbors=4)\n",
    "kr.fit(train_data,train_target)\n",
    "\n",
    "print(\"Train-Eval : \",kr.score(train_data,train_target))\n",
    "print(\"Test-Eval : \",kr.score(test_data,test_target))\n",
    "\n"
   ]
  },
  {
   "cell_type": "code",
   "execution_count": 73,
   "metadata": {},
   "outputs": [
    {
     "name": "stdout",
     "output_type": "stream",
     "text": [
      "Train-Eval :  0.8851105922034118\n",
      "Test-Eval :  0.8848550817432876\n"
     ]
    },
    {
     "name": "stderr",
     "output_type": "stream",
     "text": [
      "c:\\Users\\홍희지\\AppData\\Local\\Programs\\Python\\Python311\\Lib\\site-packages\\sklearn\\base.py:439: UserWarning: X does not have valid feature names, but KNeighborsRegressor was fitted with feature names\n",
      "  warnings.warn(\n",
      "c:\\Users\\홍희지\\AppData\\Local\\Programs\\Python\\Python311\\Lib\\site-packages\\sklearn\\base.py:439: UserWarning: X does not have valid feature names, but KNeighborsRegressor was fitted with feature names\n",
      "  warnings.warn(\n"
     ]
    },
    {
     "data": {
      "image/png": "[encoded data removed]",
      "text/plain": [
       "<Figure size 640x480 with 1 Axes>"
      ]
     },
     "metadata": {},
     "output_type": "display_data"
    }
   ],
   "source": [
    "import pandas as pd \n",
    "data=pd.read_csv(\"C:\\\\Users\\\\홍희지\\\\Downloads\\\\health.csv\")\n",
    "\n",
    "h=data[[\"H\"]]\n",
    "w=data[[\"W\"]]\n",
    "\n",
    "from sklearn.model_selection import train_test_split\n",
    "train_data,test_data,train_target,test_target=train_test_split(h,w,test_size=0.3,random_state=42,stratify=t)\n",
    "\n",
    "from sklearn.neighbors import KNeighborsRegressor\n",
    "kr=KNeighborsRegressor(n_neighbors=3)\n",
    "kr.fit(train_data,train_target)\n",
    "\n",
    "\n",
    "\n",
    "print(\"Train-Eval : \",kr.score(train_data,train_target))\n",
    "print(\"Test-Eval : \",kr.score(test_data,test_target))\n",
    "\n",
    "predict_y1=(kr.predict([[150]]))\n",
    "predict_y2=(kr.predict([[125]]))\n",
    "            \n",
    "import matplotlib.pyplot as plt \n",
    "\n",
    "plt.scatter(h,w)\n",
    "plt.scatter(125,predict_y1)\n",
    "plt.scatter(150,predict_y2)\n",
    "\n",
    "plt.xlabel(\"Height\")\n",
    "plt.ylabel(\"Weight\")\n",
    "plt.title(\"Health_Data\")\n",
    "\n",
    "plt.show()\n"
   ]
  },
  {
   "cell_type": "code",
   "execution_count": 78,
   "metadata": {},
   "outputs": [
    {
     "name": "stdout",
     "output_type": "stream",
     "text": [
      "Train -Eval :  0.8885927359749831\n",
      "Test -Eval :  0.8887134964729307\n",
      "[[0.82748538]] [-74.5994152]\n"
     ]
    },
    {
     "data": {
      "text/plain": [
       "<matplotlib.collections.PathCollection at 0x211da4e55d0>"
      ]
     },
     "execution_count": 78,
     "metadata": {},
     "output_type": "execute_result"
    },
    {
     "data": {
      "image/png": "[encoded data removed]",
      "text/plain": [
       "<Figure size 640x480 with 1 Axes>"
      ]
     },
     "metadata": {},
     "output_type": "display_data"
    }
   ],
   "source": [
    "import pandas as pd \n",
    "data=pd.read_csv(\"C:\\\\Users\\\\홍희지\\\\Downloads\\\\health.csv\")\n",
    "\n",
    "h=data[[\"H\"]]\n",
    "w=data[[\"W\"]]\n",
    "\n",
    "from sklearn.model_selection import train_test_split\n",
    "train_data,test_data,train_target,test_target=train_test_split(h,w,test_size=0.3,random_state=42,stratify=t)\n",
    "\n",
    "from sklearn.linear_model import LinearRegression\n",
    "lr=LinearRegression()\n",
    "lr.fit(train_data,train_target)\n",
    "\n",
    "print(\"Train -Eval : \",lr.score(train_data,train_target))\n",
    "print(\"Test -Eval : \",lr.score(test_data,test_target))\n",
    "print(lr.coef_, lr.intercept_)\n",
    "\n",
    "\n",
    "import matplotlib.pyplot as plt\n",
    "plt.scatter(h,h*lr.coef_+lr.intercept_,marker='^')\n",
    "plt.scatter(h,w)"
   ]
  },
  {
   "cell_type": "code",
   "execution_count": 93,
   "metadata": {},
   "outputs": [
    {
     "name": "stdout",
     "output_type": "stream",
     "text": [
      "Train -Eval :  0.8889505856004838\n",
      "Test -Eval :  0.8939984506258775\n",
      "[[0.00182256 0.32199247]] [-39.9016153]\n"
     ]
    }
   ],
   "source": [
    "import pandas as pd \n",
    "data=pd.read_csv(\"C:\\\\Users\\\\홍희지\\\\Downloads\\\\health.csv\")\n",
    "\n",
    "h=data[[\"H\"]]\n",
    "w=data[[\"W\"]]\n",
    "\n",
    "from sklearn.model_selection import train_test_split\n",
    "train_data,test_data,train_target,test_target=train_test_split(h,w,test_size=0.3,random_state=42,stratify=t)\n",
    "\n",
    "import numpy as np\n",
    "train_poly=np.column_stack((train_data**2,train_data))\n",
    "test_poly=np.column_stack((test_data**2,test_data))\n",
    "\n",
    "\n",
    "from sklearn.linear_model import LinearRegression\n",
    "lr=LinearRegression()\n",
    "lr.fit(train_poly,train_target)\n",
    "\n",
    "print(\"Train -Eval : \",lr.score(train_poly,train_target))\n",
    "print(\"Test -Eval : \",lr.score(test_poly,test_target))\n",
    "print(lr.coef_, lr.intercept_)\n"
   ]
  },
  {
   "cell_type": "code",
   "execution_count": 111,
   "metadata": {},
   "outputs": [
    {
     "name": "stdout",
     "output_type": "stream",
     "text": [
      "Train -Eval :  1.0\n",
      "Test -Eval :  1.0\n",
      "[[-0.3196168  -0.34355914]] [55.35209875]\n",
      "[[0.002 0.998]\n",
      " [1.    0.   ]\n",
      " [1.    0.   ]\n",
      " [0.002 0.998]\n",
      " [1.    0.   ]]\n",
      "2     0.998\n",
      "11    0.000\n",
      "9     0.000\n",
      "4     0.998\n",
      "8     0.000\n",
      "dtype: float64\n"
     ]
    },
    {
     "name": "stderr",
     "output_type": "stream",
     "text": [
      "c:\\Users\\홍희지\\AppData\\Local\\Programs\\Python\\Python311\\Lib\\site-packages\\sklearn\\utils\\validation.py:1143: DataConversionWarning: A column-vector y was passed when a 1d array was expected. Please change the shape of y to (n_samples, ), for example using ravel().\n",
      "  y = column_or_1d(y, warn=True)\n"
     ]
    }
   ],
   "source": [
    "import pandas as pd \n",
    "health=pd.read_csv(\"C:\\\\Users\\\\홍희지\\\\Downloads\\\\health.csv\")\n",
    "\n",
    "data=health[[\"H\",\"W\"]]\n",
    "t=health[[\"T\"]]\n",
    "\n",
    "from sklearn.model_selection import train_test_split\n",
    "train_data,test_data,train_target,test_target=train_test_split(data,t,test_size=0.3,random_state=42,stratify=t)\n",
    "\n",
    "\n",
    "from sklearn.linear_model import LogisticRegression\n",
    "logR=LogisticRegression()\n",
    "logR.fit(train_data,train_target)\n",
    "\n",
    "\n",
    "\n",
    "print(\"Train -Eval : \",logR.score(train_data,train_target))\n",
    "print(\"Test -Eval : \",logR.score(test_data,test_target))\n",
    "print(logR.coef_,logR.intercept_)\n",
    "\n",
    "\n",
    "\n",
    "import numpy as np \n",
    "print(np.round(logR.predict_proba(test_data),3))\n",
    "\n",
    "z=test_data[\"H\"]*logR.coef_[0][0]+test_data[\"W\"]*logR.coef_[0][1]+logR.intercept_\n",
    "print(np.round(1/(1+np.e**(-z)),3))\n",
    "\n"
   ]
  },
  {
   "cell_type": "code",
   "execution_count": null,
   "metadata": {},
   "outputs": [],
   "source": [
    "#Binary logistic regression : health\n",
    "\n",
    "import pandas as pd \n",
    "health=pd.read_csv(\"C:\\\\Users\\\\홍희지\\\\Downloads\\\\health.csv\")\n",
    "\n",
    "data=health[[\"H\",\"W\"]]\n",
    "t=health[[\"T\"]]\n",
    "\n",
    "from sklearn.model_selection import train_test_split\n",
    "train_data,test_data,train_target,test_target=train_test_split(data,t,test_size=0.3,random_state=42,stratify=t)\n",
    "\n",
    "\n",
    "from sklearn.linear_model import LogisticRegression\n",
    "logR=LogisticRegression()\n",
    "logR.fit(train_data,train_target)\n",
    "\n",
    "\n",
    "\n",
    "print(\"Train -Eval : \",logR.score(train_data,train_target))\n",
    "print(\"Test -Eval : \",logR.score(test_data,test_target))\n",
    "print(logR.coef_,logR.intercept_)\n",
    "\n",
    "\n",
    "\n",
    "import numpy as np \n",
    "print(np.round(logR.predict_proba(test_data),3))\n",
    "\n",
    "z=test_data[\"H\"]*logR.coef_[0][0]+test_data[\"W\"]*logR.coef_[0][1]+logR.intercept_\n",
    "print(np.round(1/(1+np.e**(-z)),3))\n"
   ]
  },
  {
   "cell_type": "code",
   "execution_count": 116,
   "metadata": {},
   "outputs": [
    {
     "name": "stdout",
     "output_type": "stream",
     "text": [
      "Train -Eval :  1.0\n",
      "Test -Eval :  1.0\n",
      "[[ 0.52354909 -0.78468851  2.11753181  0.90085533]] [-6.89382217]\n",
      "<module 'numpy' from 'c:\\\\Users\\\\홍희지\\\\AppData\\\\Local\\\\Programs\\\\Python\\\\Python311\\\\Lib\\\\site-packages\\\\numpy\\\\__init__.py'> 38    0.018\n",
      "43    0.043\n",
      "84    0.989\n",
      "23    0.059\n",
      "42    0.015\n",
      "53    0.979\n",
      "55    0.990\n",
      "85    0.990\n",
      "97    0.987\n",
      "20    0.050\n",
      "51    0.992\n",
      "93    0.859\n",
      "40    0.018\n",
      "28    0.024\n",
      "63    0.995\n",
      "58    0.995\n",
      "18    0.046\n",
      "10    0.026\n",
      "75    0.992\n",
      "35    0.017\n",
      "49    0.024\n",
      "14    0.014\n",
      "66    0.990\n",
      "69    0.965\n",
      "2     0.018\n",
      "22    0.007\n",
      "56    0.995\n",
      "57    0.843\n",
      "77    0.998\n",
      "7     0.027\n",
      "dtype: float64\n"
     ]
    }
   ],
   "source": [
    "#Binary logistic regression : iris\n",
    "\n",
    "import seaborn as sb\n",
    "iris=sb.load_dataset(\"iris\")\n",
    "\n",
    "idx=iris[iris[\"species\"]==\"virginica\"].index\n",
    "iris.drop(idx, inplace=True)\n",
    "\n",
    "t=iris[[\"species\"]].copy()\n",
    "data=iris.drop(\"species\",axis=1)\n",
    "\n",
    "t[t[\"species\"]==\"setosa\"]=int(0)\n",
    "t[t[\"species\"]==\"versicolor\"]=int(1)\n",
    "t=t[\"species\"].astype(\"int\")\n",
    "\n",
    "from sklearn.model_selection import train_test_split\n",
    "train_data,test_data,train_target,test_target=train_test_split(data,t,test_size=0.3,random_state=42,stratify=t)\n",
    "\n",
    "from sklearn.linear_model import LogisticRegression\n",
    "logR=LogisticRegression()\n",
    "logR.fit(train_data,train_target)\n",
    "\n",
    "\n",
    "\n",
    "print(\"Train -Eval : \",logR.score(train_data,train_target))\n",
    "print(\"Test -Eval : \",logR.score(test_data,test_target))\n",
    "print(logR.coef_,logR.intercept_)\n",
    "\n",
    "import numpy as np\n",
    "\n",
    "z=test_data[\"sepal_length\"]*logR.coef_[0][0]+test_data[\"sepal_width\"]*logR.coef_[0][1]+test_data[\"petal_length\"]*logR.coef_[0][2]+test_data[\"petal_width\"]*logR.coef_[0][3]+logR.intercept_\n",
    "print(np,round(1/(1+np.e**(-z)),3))"
   ]
  },
  {
   "cell_type": "code",
   "execution_count": 122,
   "metadata": {},
   "outputs": [
    {
     "name": "stdout",
     "output_type": "stream",
     "text": [
      "Train -Eval :  0.9809523809523809\n",
      "Test -Eval :  0.9111111111111111\n",
      "[[-1.09854155  0.90795172 -1.70560225 -1.51944976]\n",
      " [ 0.61022231 -0.40107921  1.77985652  2.3692027 ]\n",
      " [ 0.48831924 -0.50687251 -0.07425427 -0.84975294]] [-0.29593977 -1.41710823  1.713048  ]\n"
     ]
    }
   ],
   "source": [
    "import seaborn as sb\n",
    "iris=sb.load_dataset(\"iris\")\n",
    "\n",
    "t=iris[[\"species\"]].copy()\n",
    "data=iris.drop(\"species\",axis=1)\n",
    "\n",
    "t[t[\"species\"]==\"setosa\"]=int(0)\n",
    "t[t[\"species\"]==\"virginica\"]=int(1)\n",
    "t[t[\"species\"]==\"versicolor\"]=int(2)\n",
    "t=t[\"species\"].astype(\"int\")\n",
    "\n",
    "from sklearn.model_selection import train_test_split\n",
    "train_data,test_data,train_target,test_target=train_test_split(data,t,test_size=0.3,random_state=42,stratify=t)\n",
    "\n",
    "from sklearn.preprocessing import StandardScaler\n",
    "ss=StandardScaler()\n",
    "ss.fit(train_data)\n",
    "sd_train_data=ss.transform(train_data)\n",
    "sd_test_data=ss.transform(test_data)\n",
    "\n",
    "from sklearn.linear_model import LogisticRegression\n",
    "logR=LogisticRegression()\n",
    "logR.fit(sd_train_data,train_target)\n",
    "\n",
    "print(\"Train -Eval : \",logR.score(sd_train_data,train_target))\n",
    "print(\"Test -Eval : \",logR.score(sd_test_data,test_target))\n",
    "print(logR.coef_,logR.intercept_)\n",
    "\n",
    "\n"
   ]
  },
  {
   "cell_type": "code",
   "execution_count": 126,
   "metadata": {},
   "outputs": [
    {
     "name": "stdout",
     "output_type": "stream",
     "text": [
      "Train -Eval :  0.9428571428571428\n",
      "Test -Eval :  0.8888888888888888\n",
      "[[-1.32934997  1.25909601 -2.45151472 -2.36827915]\n",
      " [ 1.10315521  0.31388928  1.94574588  2.84571693]\n",
      " [ 0.22619477 -1.57298529  0.50576884 -0.47743778]] [ 1.94176819 -3.09093948  1.14917129]\n"
     ]
    }
   ],
   "source": [
    "import seaborn as sb\n",
    "iris=sb.load_dataset(\"iris\")\n",
    "\n",
    "t=iris[[\"species\"]].copy()\n",
    "data=iris.drop(\"species\",axis=1)\n",
    "\n",
    "t[t[\"species\"]==\"setosa\"]=int(0)\n",
    "t[t[\"species\"]==\"virginica\"]=int(1)\n",
    "t[t[\"species\"]==\"versicolor\"]=int(2)\n",
    "t=t[\"species\"].astype(\"int\")\n",
    "\n",
    "from sklearn.model_selection import train_test_split\n",
    "train_data,test_data,train_target,test_target=train_test_split(data,t,test_size=0.3,random_state=42,stratify=t)\n",
    "\n",
    "from sklearn.preprocessing import MinMaxScaler\n",
    "mx=MinMaxScaler()\n",
    "mx.fit(train_data)\n",
    "md_train_data=mx.transform(train_data)\n",
    "md_test_data=mx.transform(test_data)\n",
    "\n",
    "from sklearn.linear_model import LogisticRegression\n",
    "logR=LogisticRegression()\n",
    "logR.fit(md_train_data,train_target)\n",
    "\n",
    "print(\"Train -Eval : \",logR.score(md_train_data,train_target))\n",
    "print(\"Test -Eval : \",logR.score(md_test_data,test_target))\n",
    "print(logR.coef_,logR.intercept_)\n",
    "\n",
    "\n"
   ]
  },
  {
   "cell_type": "code",
   "execution_count": 141,
   "metadata": {},
   "outputs": [
    {
     "name": "stdout",
     "output_type": "stream",
     "text": [
      "Train -Eval :  0.9714285714285714\n",
      "Test -Eval :  0.9777777777777777\n",
      "[[15  0  0]\n",
      " [ 0 15  0]\n",
      " [ 0  1 14]]\n",
      "[[  5.07607338   4.74964533 -28.0269806  -17.28835989]\n",
      " [ -1.19926353  -1.76861284   7.54898745   1.91901225]\n",
      " [ -3.87680984  -2.98103249  20.47799315  15.36934765]]\n",
      "[-29.3503556   -2.76460787 -18.6422177 ]\n"
     ]
    },
    {
     "data": {
      "image/png": "[encoded data removed]",
      "text/plain": [
       "<Figure size 640x480 with 1 Axes>"
      ]
     },
     "metadata": {},
     "output_type": "display_data"
    }
   ],
   "source": [
    "#Linear Discriminant Analysis\n",
    "\n",
    "import seaborn as sb\n",
    "iris=sb.load_dataset(\"iris\")\n",
    "\n",
    "data=iris.drop(\"species\",axis=1)\n",
    "t=iris[[\"species\"]].copy()\n",
    "\n",
    "t[t[\"species\"]==\"setosa\"]=int(0)\n",
    "t[t[\"species\"]==\"versicolor\"]=int(1)\n",
    "t[t[\"species\"]==\"virginica\"]=int(2)\n",
    "t=t[\"species\"].astype(\"int\")\n",
    "\n",
    "from sklearn.model_selection import train_test_split\n",
    "train_data,test_data,train_target,test_target=train_test_split(data,t,test_size=0.3,random_state=42,stratify=t)\n",
    "\n",
    "from sklearn.preprocessing import StandardScaler\n",
    "ss=StandardScaler()\n",
    "ss.fit(train_data)\n",
    "sd_train_data=ss.transform(train_data)\n",
    "sd_test_data=ss.transform(test_data)\n",
    "\n",
    "from sklearn.discriminant_analysis import LinearDiscriminantAnalysis\n",
    "LDA=LinearDiscriminantAnalysis(n_components=2)\n",
    "LDA.fit(sd_train_data,train_target)\n",
    "\n",
    "print(\"Train -Eval : \",LDA.score(sd_train_data,train_target))\n",
    "print(\"Test -Eval : \",LDA.score(sd_test_data,test_target))\n",
    "\n",
    "from sklearn.metrics import confusion_matrix\n",
    "conf= confusion_matrix(test_target, LDA.predict(sd_test_data))\n",
    "print(conf)\n",
    "\n",
    "print(LDA.coef_)\n",
    "print(LDA.intercept_)\n",
    "\n",
    "train_data_lda=LDA.transform(sd_train_data)\n",
    "\n",
    "import matplotlib.pyplot as plt\n",
    "\n",
    "plt.xlabel(\"LDA1\")\n",
    "plt.ylabel(\"LDA2\")\n",
    "\n",
    "\n",
    "df=pd.DataFrame(np.column_stack([train_data_lda ,train_target]), columns =[\"X1\",\"X2\",\"class\"])\n",
    "\n",
    "plt.scatter(df.loc[df[\"class\"] == 0][\"X1\"],df.loc[df[\"class\"] == 0][\"X2\"], color = 'purple', label=\"setosa\")\n",
    "plt.scatter(df.loc[df[\"class\"] == 1][\"X1\"],df.loc[df[\"class\"] == 1][\"X2\"], color = 'green', label=\"versicolor\")\n",
    "plt.scatter(df.loc[df[\"class\"] == 2][\"X1\"],df.loc[df[\"class\"] == 2][\"X2\"], color = 'yellow', label =\"virginica\")\n",
    "plt.legend()\n",
    "plt.show()\n"
   ]
  }
 ],
 "metadata": {
  "kernelspec": {
   "display_name": "Python 3",
   "language": "python",
   "name": "python3"
  },
  "language_info": {
   "codemirror_mode": {
    "name": "ipython",
    "version": 3
   },
   "file_extension": ".py",
   "mimetype": "text/x-python",
   "name": "python",
   "nbconvert_exporter": "python",
   "pygments_lexer": "ipython3",
   "version": "3.11.3"
  },
  "orig_nbformat": 4
 },
 "nbformat": 4,
 "nbformat_minor": 2
}
